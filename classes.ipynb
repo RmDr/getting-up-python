{
 "cells": [
  {
   "cell_type": "code",
   "execution_count": 24,
   "metadata": {},
   "outputs": [],
   "source": [
    "class SiriusChild:\n",
    "    def __init__(self, sex, age):\n",
    "        '''\n",
    "        param sex: 0 for man, 1 for woman\n",
    "        '''\n",
    "        self.sex = sex\n",
    "        self.age = age\n",
    "    def has_same_age(self, other):\n",
    "        if self.age == other.age:\n",
    "            return True\n",
    "        else:\n",
    "            return False\n",
    "    def summarise_children(self, other):\n",
    "        return SiriusChild(1, self.age + other.age)\n",
    "    def __str__(self):\n",
    "        sex = {1: \"woman\", 0: \"man\"}\n",
    "        return \"{} with age {}\".format(sex[self.sex], self.age)\n",
    "    def __add__(self, other):\n",
    "        '''\n",
    "        returns tuple containing self and other childrens\n",
    "        '''\n",
    "        result = (self, other)\n",
    "        return result"
   ]
  },
  {
   "cell_type": "code",
   "execution_count": 25,
   "metadata": {
    "collapsed": true
   },
   "outputs": [],
   "source": [
    "child = SiriusChild(1, 16)\n",
    "child2 = SiriusChild(0, 165)"
   ]
  },
  {
   "cell_type": "code",
   "execution_count": 27,
   "metadata": {},
   "outputs": [
    {
     "name": "stdout",
     "output_type": "stream",
     "text": [
      "woman with age 16\n",
      "man with age 165\n"
     ]
    }
   ],
   "source": [
    "for el in child + child2:\n",
    "    print(el)"
   ]
  },
  {
   "cell_type": "code",
   "execution_count": null,
   "metadata": {
    "collapsed": true
   },
   "outputs": [],
   "source": []
  },
  {
   "cell_type": "code",
   "execution_count": 72,
   "metadata": {
    "collapsed": true
   },
   "outputs": [],
   "source": [
    "class Vector:\n",
    "    def __init__(self, m):\n",
    "        '''\n",
    "        type of m is list\n",
    "        '''\n",
    "        self.coordinates = m\n",
    "    def __add__(self, other):\n",
    "        result = []\n",
    "        for i in range(len(self.coordinates)):\n",
    "            result.append(self.coordinates[i] + other.coordinates[i])           \n",
    "        return Vector(result)\n",
    "    def __str__(self):\n",
    "        return \"вектор с координатами {}\".format(self.coordinates)"
   ]
  },
  {
   "cell_type": "code",
   "execution_count": 74,
   "metadata": {},
   "outputs": [],
   "source": [
    "v = Vector([1, 2, 3])\n",
    "v2 = Vector([1, 2, 5])"
   ]
  },
  {
   "cell_type": "code",
   "execution_count": 76,
   "metadata": {},
   "outputs": [
    {
     "data": {
      "text/plain": [
       "('вектор с координатами [1, 2, 3]', 'вектор с координатами [1, 2, 3]')"
      ]
     },
     "execution_count": 76,
     "metadata": {},
     "output_type": "execute_result"
    }
   ],
   "source": [
    "str(v), v.__str__()"
   ]
  },
  {
   "cell_type": "code",
   "execution_count": null,
   "metadata": {
    "collapsed": true
   },
   "outputs": [],
   "source": []
  },
  {
   "cell_type": "code",
   "execution_count": null,
   "metadata": {
    "collapsed": true
   },
   "outputs": [],
   "source": []
  },
  {
   "cell_type": "code",
   "execution_count": 78,
   "metadata": {},
   "outputs": [
    {
     "data": {
      "text/plain": [
       "1"
      ]
     },
     "execution_count": 78,
     "metadata": {},
     "output_type": "execute_result"
    }
   ],
   "source": [
    "arr = [1,3,2,1,1,0]\n",
    "from collections import Counter\n",
    "sorted(Counter(arr).items(), key=lambda x: x[1])[0][1] # выводит самую частую метку в arr"
   ]
  },
  {
   "cell_type": "code",
   "execution_count": null,
   "metadata": {
    "collapsed": true
   },
   "outputs": [],
   "source": []
  }
 ],
 "metadata": {
  "kernelspec": {
   "display_name": "Python [conda env:python3]",
   "language": "python",
   "name": "conda-env-python3-py"
  },
  "language_info": {
   "codemirror_mode": {
    "name": "ipython",
    "version": 3
   },
   "file_extension": ".py",
   "mimetype": "text/x-python",
   "name": "python",
   "nbconvert_exporter": "python",
   "pygments_lexer": "ipython3",
   "version": "3.6.1"
  }
 },
 "nbformat": 4,
 "nbformat_minor": 2
}
