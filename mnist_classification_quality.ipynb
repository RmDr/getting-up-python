{
 "cells": [
  {
   "cell_type": "code",
   "execution_count": 9,
   "metadata": {
    "collapsed": true
   },
   "outputs": [],
   "source": [
    "import pandas as pd # для чтения таблиц\n",
    "import matplotlib.pyplot as plt # для построения графиков\n",
    "from sklearn.metrics import accuracy_score\n",
    "from sklearn.neighbors import KNeighborsClassifier as KNC"
   ]
  },
  {
   "cell_type": "code",
   "execution_count": 10,
   "metadata": {
    "collapsed": true
   },
   "outputs": [],
   "source": [
    "train_set = pd.read_csv(\"./datasets/mnist/mnist_train.csv\").values\n",
    "test_set = pd.read_csv(\"./datasets/mnist/mnist_test.csv\").values"
   ]
  },
  {
   "cell_type": "code",
   "execution_count": 3,
   "metadata": {
    "collapsed": true
   },
   "outputs": [],
   "source": [
    "knc = KNC(n_neighbors=5, n_jobs=3)"
   ]
  },
  {
   "cell_type": "code",
   "execution_count": 4,
   "metadata": {},
   "outputs": [
    {
     "data": {
      "text/plain": [
       "KNeighborsClassifier(algorithm='auto', leaf_size=30, metric='minkowski',\n",
       "           metric_params=None, n_jobs=3, n_neighbors=5, p=2,\n",
       "           weights='uniform')"
      ]
     },
     "execution_count": 4,
     "metadata": {},
     "output_type": "execute_result"
    }
   ],
   "source": [
    "knc.fit(train_set[:, 1:], train_set[:, 0])"
   ]
  },
  {
   "cell_type": "code",
   "execution_count": 5,
   "metadata": {},
   "outputs": [],
   "source": [
    "accuracies = []\n",
    "for i in range(100):\n",
    "    accuracies.append(accuracy_score(test_set[100 * i: 100 * (i + 1), 0],\n",
    "                         knc.predict(test_set[100 * i: 100 * (i + 1), 1:])))"
   ]
  },
  {
   "cell_type": "code",
   "execution_count": 7,
   "metadata": {
    "collapsed": true
   },
   "outputs": [
    {
     "data": {
      "text/plain": [
       "[0.98999999999999999,\n",
       " 0.97999999999999998,\n",
       " 0.96999999999999997,\n",
       " 0.93999999999999995,\n",
       " 0.94999999999999996,\n",
       " 0.94999999999999996,\n",
       " 0.95999999999999996,\n",
       " 0.96999999999999997,\n",
       " 0.95999999999999996,\n",
       " 0.93999999999999995,\n",
       " 0.93999999999999995,\n",
       " 0.96999999999999997,\n",
       " 0.93000000000000005,\n",
       " 0.94999999999999996,\n",
       " 0.96999999999999997,\n",
       " 0.94999999999999996,\n",
       " 0.98999999999999999,\n",
       " 0.92000000000000004,\n",
       " 0.93999999999999995,\n",
       " 0.95999999999999996,\n",
       " 0.92000000000000004,\n",
       " 0.90000000000000002,\n",
       " 0.94999999999999996,\n",
       " 0.94999999999999996,\n",
       " 0.93000000000000005,\n",
       " 0.96999999999999997,\n",
       " 0.96999999999999997,\n",
       " 0.96999999999999997,\n",
       " 0.96999999999999997,\n",
       " 0.94999999999999996,\n",
       " 0.95999999999999996,\n",
       " 0.97999999999999998,\n",
       " 0.95999999999999996,\n",
       " 0.96999999999999997,\n",
       " 0.96999999999999997,\n",
       " 0.93999999999999995,\n",
       " 0.96999999999999997,\n",
       " 0.93000000000000005,\n",
       " 0.94999999999999996,\n",
       " 0.95999999999999996,\n",
       " 0.93999999999999995,\n",
       " 0.93999999999999995,\n",
       " 0.97999999999999998,\n",
       " 0.93999999999999995,\n",
       " 0.94999999999999996,\n",
       " 0.95999999999999996,\n",
       " 0.94999999999999996,\n",
       " 0.95999999999999996,\n",
       " 0.92000000000000004,\n",
       " 0.98999999999999999,\n",
       " 0.98999999999999999,\n",
       " 0.98999999999999999,\n",
       " 0.98999999999999999,\n",
       " 1.0,\n",
       " 1.0,\n",
       " 0.97999999999999998,\n",
       " 0.96999999999999997,\n",
       " 0.96999999999999997,\n",
       " 0.94999999999999996,\n",
       " 0.94999999999999996,\n",
       " 0.93000000000000005,\n",
       " 0.96999999999999997,\n",
       " 1.0,\n",
       " 1.0,\n",
       " 1.0,\n",
       " 0.93999999999999995,\n",
       " 0.97999999999999998,\n",
       " 1.0,\n",
       " 1.0,\n",
       " 1.0,\n",
       " 1.0,\n",
       " 0.98999999999999999,\n",
       " 1.0,\n",
       " 1.0,\n",
       " 0.96999999999999997,\n",
       " 0.98999999999999999,\n",
       " 0.98999999999999999,\n",
       " 0.98999999999999999,\n",
       " 0.98999999999999999,\n",
       " 1.0,\n",
       " 0.96999999999999997,\n",
       " 1.0,\n",
       " 0.96999999999999997,\n",
       " 0.98999999999999999,\n",
       " 0.97999999999999998,\n",
       " 0.97999999999999998,\n",
       " 1.0,\n",
       " 1.0,\n",
       " 1.0,\n",
       " 1.0,\n",
       " 0.96999999999999997,\n",
       " 1.0,\n",
       " 0.98999999999999999,\n",
       " 1.0,\n",
       " 1.0,\n",
       " 0.98999999999999999,\n",
       " 0.93000000000000005,\n",
       " 0.92000000000000004,\n",
       " 0.95999999999999996,\n",
       " 0.96969696969696972]"
      ]
     },
     "execution_count": 7,
     "metadata": {},
     "output_type": "execute_result"
    }
   ],
   "source": [
    "accuracies"
   ]
  },
  {
   "cell_type": "code",
   "execution_count": 8,
   "metadata": {},
   "outputs": [
    {
     "data": {
      "image/png": "[encoded data removed]",
      "text/plain": [
       "<matplotlib.figure.Figure at 0x7f655e3a3cc0>"
      ]
     },
     "metadata": {},
     "output_type": "display_data"
    }
   ],
   "source": [
    "plt.hist(accuracies, bins=100)\n",
    "plt.show()"
   ]
  },
  {
   "cell_type": "code",
   "execution_count": 16,
   "metadata": {},
   "outputs": [],
   "source": [
    "m = []\n",
    "for i in range(100, 10000, 1000):\n",
    "    clf = KNC(n_neighbors=5, n_jobs=3)\n",
    "    clf.fit(train_set[:i, 1:], train_set[:i, 0])\n",
    "    m.append(accuracy_score(test_set[:1000, 0], clf.predict(test_set[:1000, 1:])))"
   ]
  },
  {
   "cell_type": "code",
   "execution_count": 32,
   "metadata": {},
   "outputs": [
    {
     "data": {
      "image/png": "[encoded data removed]",
      "text/plain": [
       "<matplotlib.figure.Figure at 0x7f655ce0dda0>"
      ]
     },
     "metadata": {},
     "output_type": "display_data"
    }
   ],
   "source": [
    "plt.plot(m, label=\"KNN\", c=\"red\")\n",
    "plt.title(\"Качество от количества\")\n",
    "plt.xlabel(\"train_size\")\n",
    "plt.ylabel(\"accuracy\")\n",
    "plt.xticks(range(10), range(100,10000,1000))\n",
    "plt.legend()\n",
    "plt.show()"
   ]
  },
  {
   "cell_type": "code",
   "execution_count": 35,
   "metadata": {},
   "outputs": [
    {
     "data": {
      "image/png": "[encoded data removed]",
      "text/plain": [
       "<matplotlib.figure.Figure at 0x7f655d0264e0>"
      ]
     },
     "metadata": {},
     "output_type": "display_data"
    }
   ],
   "source": [
    "plt.plot(m, label=\"KNN\", c=\"red\")\n",
    "plt.plot([0.5,0.9], label=\"h\", c=\"blue\")\n",
    "plt.title(\"h graphik\")\n",
    "plt.xlabel(\"train_size\")\n",
    "plt.ylabel(\"accuracy\")\n",
    "plt.xticks(range(10), range(100,10000,1000))\n",
    "plt.legend()\n",
    "plt.show()"
   ]
  },
  {
   "cell_type": "code",
   "execution_count": 38,
   "metadata": {},
   "outputs": [
    {
     "data": {
      "image/png": "[encoded data removed]",
      "text/plain": [
       "<matplotlib.figure.Figure at 0x7f655e124588>"
      ]
     },
     "metadata": {},
     "output_type": "display_data"
    }
   ],
   "source": [
    "arr = range(10)\n",
    "plt.plot(arr)\n",
    "plt.xticks([1,3,5], [\"h\", 42, \"very h\"])\n",
    "plt.show()"
   ]
  },
  {
   "cell_type": "code",
   "execution_count": 41,
   "metadata": {},
   "outputs": [
    {
     "data": {
      "image/png": "[encoded data removed]",
      "text/plain": [
       "<matplotlib.figure.Figure at 0x7f655ce00588>"
      ]
     },
     "metadata": {},
     "output_type": "display_data"
    }
   ],
   "source": [
    "x = range(10)\n",
    "y = [i**2 for i in range(0, 20, 2)]\n",
    "plt.plot(x, y)\n",
    "plt.plot(y) <=> plt.plot(range(len(y)), y)\n",
    "plt.show()"
   ]
  },
  {
   "cell_type": "code",
   "execution_count": 45,
   "metadata": {},
   "outputs": [
    {
     "data": {
      "text/plain": [
       "[0, 4, 8, 12, 16]"
      ]
     },
     "execution_count": 45,
     "metadata": {},
     "output_type": "execute_result"
    }
   ],
   "source": [
    "list(range(0, 20, 4))"
   ]
  },
  {
   "cell_type": "code",
   "execution_count": 46,
   "metadata": {
    "collapsed": true
   },
   "outputs": [],
   "source": [
    "n_neighbors = [1, 2, 3, 5, 8, 13 ,21]\n",
    "scores = []\n",
    "for i_neighbors in n_neighbors:\n",
    "    knc = KNC(n_neighbors=i_neighbors, n_jobs=3)\n",
    "    knc.fit(train_set[:6000, 1:], train_set[:6000, 0])\n",
    "    scores.append(accuracy_score(test_set[:1000, 0], knc.predict(test_set[:1000, 1:])))"
   ]
  },
  {
   "cell_type": "code",
   "execution_count": 47,
   "metadata": {},
   "outputs": [
    {
     "data": {
      "image/png": "[encoded data removed]",
      "text/plain": [
       "<matplotlib.figure.Figure at 0x7f655db89208>"
      ]
     },
     "metadata": {},
     "output_type": "display_data"
    }
   ],
   "source": [
    "plt.plot(n_neighbors, scores)\n",
    "plt.xticks(n_neighbors, n_neighbors)\n",
    "plt.show()"
   ]
  },
  {
   "cell_type": "code",
   "execution_count": null,
   "metadata": {
    "collapsed": true
   },
   "outputs": [],
   "source": []
  },
  {
   "cell_type": "code",
   "execution_count": null,
   "metadata": {
    "collapsed": true
   },
   "outputs": [],
   "source": []
  },
  {
   "cell_type": "code",
   "execution_count": null,
   "metadata": {
    "collapsed": true
   },
   "outputs": [],
   "source": []
  },
  {
   "cell_type": "code",
   "execution_count": null,
   "metadata": {
    "collapsed": true
   },
   "outputs": [],
   "source": []
  }
 ],
 "metadata": {
  "kernelspec": {
   "display_name": "Python [conda env:python3]",
   "language": "python",
   "name": "conda-env-python3-py"
  },
  "language_info": {
   "codemirror_mode": {
    "name": "ipython",
    "version": 3
   },
   "file_extension": ".py",
   "mimetype": "text/x-python",
   "name": "python",
   "nbconvert_exporter": "python",
   "pygments_lexer": "ipython3",
   "version": "3.6.1"
  }
 },
 "nbformat": 4,
 "nbformat_minor": 2
}
