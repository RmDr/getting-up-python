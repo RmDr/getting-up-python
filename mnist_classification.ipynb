{
 "cells": [
  {
   "cell_type": "markdown",
   "metadata": {},
   "source": [
    "Импортируем все необходиые библиотеки"
   ]
  },
  {
   "cell_type": "code",
   "execution_count": 3,
   "metadata": {
    "collapsed": true
   },
   "outputs": [],
   "source": [
    "import pandas as pd # для чтения таблиц\n",
    "import matplotlib.pyplot as plt # для построения графиков\n",
    "from sklearn.neighbors import KNeighborsClassifier as KNC"
   ]
  },
  {
   "cell_type": "markdown",
   "metadata": {},
   "source": [
    "Считываем тренировочную и тестовую выборку. Тренировочная выборка (train) по смыслу --- та, на который мы будем обучать классификатор. Для неё алгоритм видит и матрицу объекты-признаки и метки (ответы, labels). Другая часть --- тестовая выборка (test). На ней мы будем тестировать, насколько наш алгоритм хорош. Для неё мы будем показывать алгоритму только матрицу объекты-признаки и предсказывать с помощью обученного алгоритма метки, а затем сравнивать их с настоящими, которые мы не показывали алгоритму, таким образом замеряя качество.  \n",
    "\n",
    "Чтобы запустить следующую ячейку, рядом с вашей тетрадкой должны лежать файлы \"mnist_train.csv\" и \"mnist_test.csv\", которые можно скачать с https://pjreddie.com/projects/mnist-in-csv/."
   ]
  },
  {
   "cell_type": "code",
   "execution_count": 4,
   "metadata": {
    "collapsed": true
   },
   "outputs": [],
   "source": [
    "train_set = pd.read_csv(\"mnist_train.csv\")\n",
    "test_set = pd.read_csv(\"mnist_test.csv\")"
   ]
  },
  {
   "cell_type": "markdown",
   "metadata": {},
   "source": [
    "Создаем объект класса KNC (KNeighborsClassifier), т.е. алгоритма машинного обучения к ближайших соседей. Гиперпараметр (параметры, которые мы задаем до начала обучения у алгоритмов машинного обучения принято называть гиперпараметрами) n_neighbors равен числу соседей, метки которых бы будем проверять при предсказаниях, n_jobs --- число ядер вашего компьютера, которые будут использованы при вычислении предсказаний."
   ]
  },
  {
   "cell_type": "code",
   "execution_count": 5,
   "metadata": {},
   "outputs": [],
   "source": [
    "knc = KNC(n_neighbors=5, n_jobs=2)"
   ]
  },
  {
   "cell_type": "markdown",
   "metadata": {},
   "source": [
    "Обучаем классификатор. Обучения традиционно происходит с помощью вызова метода .fit(). В первый аргумент подаём тренировочную матрицу объекты-признаки, во второй --- ответы для тренировочных данных."
   ]
  },
  {
   "cell_type": "code",
   "execution_count": 6,
   "metadata": {},
   "outputs": [
    {
     "data": {
      "text/plain": [
       "KNeighborsClassifier(algorithm='auto', leaf_size=30, metric='minkowski',\n",
       "           metric_params=None, n_jobs=2, n_neighbors=5, p=2,\n",
       "           weights='uniform')"
      ]
     },
     "execution_count": 6,
     "metadata": {},
     "output_type": "execute_result"
    }
   ],
   "source": [
    "knc.fit(train_set.values[:, 1:], train_set.values[:, 0])"
   ]
  },
  {
   "cell_type": "markdown",
   "metadata": {},
   "source": [
    "Теперь давайте выведем 10 картинок вместе с предсказанными и истинными значениями меток для тестового датасета (его наш алгоритм ещё не видел, он их не запоминает)"
   ]
  },
  {
   "cell_type": "code",
   "execution_count": 7,
   "metadata": {
    "scrolled": false
   },
   "outputs": [
    {
     "data": {
      "image/png": "[encoded data removed]",
      "text/plain": [
       "<matplotlib.figure.Figure at 0x7fdcbc5de978>"
      ]
     },
     "metadata": {},
     "output_type": "display_data"
    },
    {
     "name": "stdout",
     "output_type": "stream",
     "text": [
      "[2]\n",
      "2\n"
     ]
    },
    {
     "data": {
      "image/png": "[encoded data removed]",
      "text/plain": [
       "<matplotlib.figure.Figure at 0x7fdcbe304358>"
      ]
     },
     "metadata": {},
     "output_type": "display_data"
    },
    {
     "name": "stdout",
     "output_type": "stream",
     "text": [
      "[1]\n",
      "1\n"
     ]
    },
    {
     "data": {
      "image/png": "[encoded data removed]",
      "text/plain": [
       "<matplotlib.figure.Figure at 0x7fdcbe0356d8>"
      ]
     },
     "metadata": {},
     "output_type": "display_data"
    },
    {
     "name": "stdout",
     "output_type": "stream",
     "text": [
      "[0]\n",
      "0\n"
     ]
    },
    {
     "data": {
      "image/png": "[encoded data removed]",
      "text/plain": [
       "<matplotlib.figure.Figure at 0x7fdcbdfed588>"
      ]
     },
     "metadata": {},
     "output_type": "display_data"
    },
    {
     "name": "stdout",
     "output_type": "stream",
     "text": [
      "[4]\n",
      "4\n"
     ]
    },
    {
     "data": {
      "image/png": "[encoded data removed]",
      "text/plain": [
       "<matplotlib.figure.Figure at 0x7fdcbdf73470>"
      ]
     },
     "metadata": {},
     "output_type": "display_data"
    },
    {
     "name": "stdout",
     "output_type": "stream",
     "text": [
      "[1]\n",
      "1\n"
     ]
    },
    {
     "data": {
      "image/png": "[encoded data removed]",
      "text/plain": [
       "<matplotlib.figure.Figure at 0x7fdcbde8e9e8>"
      ]
     },
     "metadata": {},
     "output_type": "display_data"
    },
    {
     "name": "stdout",
     "output_type": "stream",
     "text": [
      "[4]\n",
      "4\n"
     ]
    },
    {
     "data": {
      "image/png": "[encoded data removed]",
      "text/plain": [
       "<matplotlib.figure.Figure at 0x7fdcbde290b8>"
      ]
     },
     "metadata": {},
     "output_type": "display_data"
    },
    {
     "name": "stdout",
     "output_type": "stream",
     "text": [
      "[9]\n",
      "9\n"
     ]
    },
    {
     "data": {
      "image/png": "[encoded data removed]",
      "text/plain": [
       "<matplotlib.figure.Figure at 0x7fdcbdd34e80>"
      ]
     },
     "metadata": {},
     "output_type": "display_data"
    },
    {
     "name": "stdout",
     "output_type": "stream",
     "text": [
      "[5]\n",
      "5\n"
     ]
    },
    {
     "data": {
      "image/png": "[encoded data removed]",
      "text/plain": [
       "<matplotlib.figure.Figure at 0x7fdcbdcc2668>"
      ]
     },
     "metadata": {},
     "output_type": "display_data"
    },
    {
     "name": "stdout",
     "output_type": "stream",
     "text": [
      "[9]\n",
      "9\n"
     ]
    },
    {
     "data": {
      "image/png": "[encoded data removed]",
      "text/plain": [
       "<matplotlib.figure.Figure at 0x7fdcbdc5fcf8>"
      ]
     },
     "metadata": {},
     "output_type": "display_data"
    },
    {
     "name": "stdout",
     "output_type": "stream",
     "text": [
      "[0]\n",
      "0\n"
     ]
    }
   ],
   "source": [
    "for i in range(10):\n",
    "    plt.imshow(test_set.values[i, 1:].reshape(28, 28)) # imshow нужно подавать квадратную матрицу, \n",
    "                                                        # чтобы он мог воспринять её как картинку,\n",
    "                                                        # для этого мы делаем reshape(). Также можно было\n",
    "                                                        # вызвать reshape(28, -1), это то же самое.\n",
    "    plt.show() # говорим ipython отрисовать всё, что было заготовлено\n",
    "    print(knc.predict(test_set.values[i, 1:].reshape(1, -1))) # предсказываем метку с помощью KNC для i-ой картинки и\n",
    "                                                                # выводим её\n",
    "    print(test_set.values[i, 0]) # выводим истинную метку"
   ]
  },
  {
   "cell_type": "markdown",
   "metadata": {
    "collapsed": true
   },
   "source": [
    "## Задание. \n",
    "Напишите код, который бы выяснял качество наших предсказаний, т. е. считал бы отношение числа верно угаданных меток картинок к общему числу. Понятно, что тестироваться нужно не на одной картинке, но на скольки?"
   ]
  },
  {
   "cell_type": "code",
   "execution_count": null,
   "metadata": {
    "collapsed": true
   },
   "outputs": [],
   "source": []
  }
 ],
 "metadata": {
  "kernelspec": {
   "display_name": "Python [conda env:python3]",
   "language": "python",
   "name": "conda-env-python3-py"
  },
  "language_info": {
   "codemirror_mode": {
    "name": "ipython",
    "version": 3
   },
   "file_extension": ".py",
   "mimetype": "text/x-python",
   "name": "python",
   "nbconvert_exporter": "python",
   "pygments_lexer": "ipython3",
   "version": "3.6.1"
  }
 },
 "nbformat": 4,
 "nbformat_minor": 2
}
