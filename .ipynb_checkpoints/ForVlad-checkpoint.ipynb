{
 "cells": [
  {
   "cell_type": "code",
   "execution_count": 1,
   "metadata": {},
   "outputs": [
    {
     "name": "stderr",
     "output_type": "stream",
     "text": [
      "Using TensorFlow backend.\n"
     ]
    }
   ],
   "source": [
    "import pandas as pd\n",
    "import numpy as np\n",
    "from sklearn.model_selection import train_test_split\n",
    "from sklearn.metrics import accuracy_score, mean_absolute_error, mean_squared_error\n",
    "from collections import defaultdict\n",
    "import matplotlib.pyplot as plt\n",
    "from gensim.models.keyedvectors import KeyedVectors\n",
    "from gensim.models.word2vec import Word2Vec\n",
    "%matplotlib inline"
   ]
  },
  {
   "cell_type": "code",
   "execution_count": 34,
   "metadata": {
    "collapsed": true
   },
   "outputs": [],
   "source": [
    "transactions = pd.read_csv(\"./datasets/transactions/sorted_transactions.csv\", nrows=2000000)"
   ]
  },
  {
   "cell_type": "code",
   "execution_count": 35,
   "metadata": {
    "collapsed": true
   },
   "outputs": [],
   "source": [
    "def trans_sort_d(transactions, hours = 96):\n",
    "    from IPython.display import clear_output\n",
    "    str_list = []\n",
    "    strr = []\n",
    "    timm = []\n",
    "    idd = 0\n",
    "    j = 0\n",
    "    for i in range(1, len(transactions)):\n",
    "        if len(timm) > 0 and transactions[\"hour\"][i] > timm[0] + hours:\n",
    "            str_list.append(strr)\n",
    "            j = 0\n",
    "            strr = []\n",
    "            timm = []\n",
    "        if len(timm) > 0 and transactions[\"customer_id\"][i] != \\\n",
    "                                    transactions[\"customer_id\"][i - 1]:\n",
    "            str_list.append(strr)\n",
    "            j = 0\n",
    "            strr = []\n",
    "            timm = []\n",
    "        strr.append(str(transactions[\"mcc_code\"][i]))\n",
    "        timm.append(transactions[\"hour\"][i])\n",
    "        if (i % 68490 == 0):\n",
    "            clear_output()\n",
    "            print(int(i / 68490), \"%\", sep='')\n",
    "    return str_list"
   ]
  },
  {
   "cell_type": "code",
   "execution_count": 36,
   "metadata": {
    "collapsed": true
   },
   "outputs": [],
   "source": [
    "def trans_sort_r1(transactions, hours = 96):\n",
    "    from IPython.display import clear_output\n",
    "    str_list = []\n",
    "    strr = []\n",
    "    timm = []\n",
    "    idd = 0\n",
    "    j = 0\n",
    "    hour = transactions[\"hour\"]\n",
    "    customer_id = transactions[\"customer_id\"]\n",
    "    mcc_code = transactions[\"mcc_code\"]\n",
    "    for i in range(1, len(transactions)):\n",
    "        if len(timm) > 0 and hour[i] > timm[0] + hours:\n",
    "            str_list.append(strr)\n",
    "            j = 0\n",
    "            strr = []\n",
    "            timm = []\n",
    "        if len(timm) > 0 and customer_id[i] != \\\n",
    "                                    customer_id[i - 1]:\n",
    "            str_list.append(strr)\n",
    "            j = 0\n",
    "            strr = []\n",
    "            timm = []\n",
    "        strr.append(str(mcc_code[i]))\n",
    "        timm.append(hour[i])\n",
    "        if (i % 68490 == 0):\n",
    "            clear_output()\n",
    "            print(int(i / 68490), \"%\", sep='')\n",
    "    return str_list"
   ]
  },
  {
   "cell_type": "code",
   "execution_count": 37,
   "metadata": {
    "collapsed": true
   },
   "outputs": [],
   "source": [
    "def trans_sort_r2(transactions, hours = 96):\n",
    "    from IPython.display import clear_output\n",
    "    str_list, strr, timm, idd, j = [], [], [], 0, 0\n",
    "    for i in range(1, len(transactions)):\n",
    "        if len(timm) > 0 and transactions.at[i, \"hour\"] > timm[0] + hours:\n",
    "            str_list.append(strr)\n",
    "            j = 0\n",
    "            strr = []\n",
    "            timm = []\n",
    "        if len(timm) > 0 and transactions.at[i, \"customer_id\"] != \\\n",
    "                                    transactions.at[i - 1, \"customer_id\"]:\n",
    "            str_list.append(strr)\n",
    "            j = 0\n",
    "            strr = []\n",
    "            timm = []\n",
    "        strr.append(str(transactions.at[i, \"mcc_code\"]))\n",
    "        timm.append(transactions.at[i, \"hour\"])\n",
    "        if (i % (transactions.shape[0] // 100) == 0):\n",
    "            clear_output()\n",
    "            print(int(100 * i / transactions.shape[0]), \"%\", sep='')\n",
    "    return str_list"
   ]
  },
  {
   "cell_type": "code",
   "execution_count": 38,
   "metadata": {},
   "outputs": [
    {
     "name": "stdout",
     "output_type": "stream",
     "text": [
      "29%\n",
      "CPU times: user 4min 26s, sys: 148 ms, total: 4min 26s\n",
      "Wall time: 4min 26s\n"
     ]
    }
   ],
   "source": [
    "%time _ = trans_sort_d(transactions)"
   ]
  },
  {
   "cell_type": "code",
   "execution_count": 39,
   "metadata": {},
   "outputs": [
    {
     "name": "stdout",
     "output_type": "stream",
     "text": [
      "29%\n",
      "CPU times: user 3min 36s, sys: 208 ms, total: 3min 36s\n",
      "Wall time: 3min 36s\n"
     ]
    }
   ],
   "source": [
    "%time _ = trans_sort_r1(transactions)"
   ]
  },
  {
   "cell_type": "code",
   "execution_count": 40,
   "metadata": {},
   "outputs": [
    {
     "name": "stdout",
     "output_type": "stream",
     "text": [
      "99%\n",
      "CPU times: user 2min 49s, sys: 172 ms, total: 2min 49s\n",
      "Wall time: 2min 49s\n"
     ]
    }
   ],
   "source": [
    "%time _ = trans_sort_r2(transactions)"
   ]
  },
  {
   "cell_type": "code",
   "execution_count": null,
   "metadata": {
    "collapsed": true
   },
   "outputs": [],
   "source": []
  },
  {
   "cell_type": "code",
   "execution_count": null,
   "metadata": {
    "collapsed": true
   },
   "outputs": [],
   "source": []
  },
  {
   "cell_type": "code",
   "execution_count": null,
   "metadata": {
    "collapsed": true
   },
   "outputs": [],
   "source": [
    "def mcc2vec(mc_codes, str_list, window = 5, size = 100):\n",
    "    model = Word2Vec(str_list, size=size, window=window, min_count=5, workers=4)\n",
    "    clu = []\n",
    "    for i in range(len(mc_codes)):\n",
    "        clu.append(model.wv[str(mc_codes[\"mcc_code\"][i])])\n",
    "    return clu"
   ]
  }
 ],
 "metadata": {
  "kernelspec": {
   "display_name": "Python [conda env:python3]",
   "language": "python",
   "name": "conda-env-python3-py"
  },
  "language_info": {
   "codemirror_mode": {
    "name": "ipython",
    "version": 3
   },
   "file_extension": ".py",
   "mimetype": "text/x-python",
   "name": "python",
   "nbconvert_exporter": "python",
   "pygments_lexer": "ipython3",
   "version": "3.6.1"
  }
 },
 "nbformat": 4,
 "nbformat_minor": 2
}
