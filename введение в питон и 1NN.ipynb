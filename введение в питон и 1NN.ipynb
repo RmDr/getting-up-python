{
 "cells": [
  {
   "cell_type": "markdown",
   "metadata": {},
   "source": [
    "## Задача 0.\n",
    "\n",
    "Запустите Jupyter notebook и создайте новую тетрадку. Не стесняйтесь кооперироваться и помогать друг другу в процессе выполнения всего задания, но списывать не нужно. Узнайте, как добавлять новые ячейки, удалять ячейки, запускать ячейки. Потыкайте в разные кнопки в верхней панельке, посмотрите Help -> Keyboard Shortcuts (в самой верхней панельке)."
   ]
  },
  {
   "cell_type": "markdown",
   "metadata": {},
   "source": [
    "## Задача 1. \n",
    "Написать функцию distance, которая принимает 2 объекта типа tuple и возвращает $l_2$ расстояние между ними.\n",
    "\n",
    "Напоминание:\n",
    "$$distance(a, b) = \\sqrt{\\sum_{i} (a_i - b_i)^2}$$\n",
    "\n",
    "Шаблон:"
   ]
  },
  {
   "cell_type": "code",
   "execution_count": null,
   "metadata": {
    "collapsed": true
   },
   "outputs": [],
   "source": [
    "def distance(a, b):\n",
    "    >>>Ваш код здеся, считает расстояние в переменную d<<<\n",
    "    return d"
   ]
  },
  {
   "cell_type": "markdown",
   "metadata": {},
   "source": [
    "Примеры вызова:\n",
    "\n",
    "print(distance((1, 0), (2, 0)))\n",
    "\n",
    "-> 1\n",
    "\n",
    "print(distance((0, 0, 0), (0, 3, 4)))\n",
    "\n",
    "-> 5"
   ]
  },
  {
   "cell_type": "markdown",
   "metadata": {},
   "source": [
    "## Задача 2.\n",
    "\n",
    "Реализуйте функцию сортировки (алгоритм может быть любой сложности).\n",
    "\n",
    "Шаблон:"
   ]
  },
  {
   "cell_type": "code",
   "execution_count": null,
   "metadata": {
    "collapsed": true
   },
   "outputs": [],
   "source": [
    "def sort(m):\n",
    "    >>>Ваш код тута, сортирующий массив m.<<<\n",
    "    return "
   ]
  },
  {
   "cell_type": "markdown",
   "metadata": {},
   "source": [
    "Пример вызова:\n",
    "\n",
    "print(sort([3,1,2]))\n",
    "\n",
    "-> [1,2,3]"
   ]
  },
  {
   "cell_type": "markdown",
   "metadata": {},
   "source": [
    "## Задача 3.\n",
    "\n",
    "Попробуйте выполнить следующий код."
   ]
  },
  {
   "cell_type": "code",
   "execution_count": null,
   "metadata": {
    "collapsed": true
   },
   "outputs": [],
   "source": [
    "m = [3, 2, 1]\n",
    "print(sort(m))\n",
    "print(m)"
   ]
  },
  {
   "cell_type": "markdown",
   "metadata": {},
   "source": [
    "Изменился ли массив m после применения функции? Если да, добейтесь того, чтобы он не изменялся, напишите новую функцию sort (старая пусть остается в предыдущих ячейках!), такую, чтобы m не изменялся после применения функции sort."
   ]
  },
  {
   "cell_type": "markdown",
   "metadata": {},
   "source": [
    "## Задача 4.\n",
    "\n",
    "В питоне можно узнать тип объекта, использовав функцию type. Например, попробуйте вывести type(5), type(5.), type(3.1415926), type(1e+100), type(int), type(list), type(type) и... type(type(type)).\n",
    "\n",
    "Какие типы будут у sort((1, 3, 2)) и sort([1, 3, 2]) для последней написанной вами функции sort? \n",
    "\n",
    "Будем говорить, что функция сохраняет тип, если тип входа совпадает с типом выхода. Добейтесь того, чтобы ваша функция сохраняла тип и при этом не изменяла исходный объект, который подают ей на вход."
   ]
  },
  {
   "cell_type": "markdown",
   "metadata": {},
   "source": [
    "## Задача 5.\n",
    "\n",
    "Напишите функцию, которая принимает на вход два аргумента: массив точек $m$ с метками и ещё одну точку $x$, находит среди элементов $m$ ближайшую к $x$ точку $y$ и выдаёт её метку. Если ближайших точек оказалось несколько, можно выводить любую на ваше усмотрение.\n",
    "\n",
    "Рекомендация 1: используйте написанную вами функцию distance.\n",
    "\n",
    "Доп. задание: разобраться во всех функциях, которые использованы в заделе этой задачки.\n",
    "\n",
    "Задел:"
   ]
  },
  {
   "cell_type": "code",
   "execution_count": null,
   "metadata": {
    "collapsed": true
   },
   "outputs": [],
   "source": [
    "def nearest_neighbor(m, x):\n",
    "    if not isinstance(m, list):\n",
    "        raise TypeError(\"m должен иметь тип list (или отнаследованный от листа)\")\n",
    "    if not len(m):\n",
    "        # Если подан массив длины 0, то ближайший сосед не определен.\n",
    "        return None        \n",
    "    >>>Ваш код по поиску ближайшего соседа сюда<<<\n",
    "    return >>>значение метки ближайшего соседа<<<"
   ]
  },
  {
   "cell_type": "markdown",
   "metadata": {},
   "source": [
    "Пример вызова:\n",
    "\n",
    "nearest_neighbor([[[0,0,0], 1],[[1, 1, 1], 2]], [2, 2, 2]) # тут на вход подаются массив m, состоящий из точки (0,0,0) с меткой 1, точки (1,1,1) с меткой два и x=(2,2,2).\n",
    "\n",
    "-> 2"
   ]
  },
  {
   "cell_type": "code",
   "execution_count": null,
   "metadata": {
    "collapsed": true
   },
   "outputs": [],
   "source": []
  }
 ],
 "metadata": {
  "kernelspec": {
   "display_name": "Python 2",
   "language": "python",
   "name": "python2"
  },
  "language_info": {
   "codemirror_mode": {
    "name": "ipython",
    "version": 2
   },
   "file_extension": ".py",
   "mimetype": "text/x-python",
   "name": "python",
   "nbconvert_exporter": "python",
   "pygments_lexer": "ipython2",
   "version": "2.7.13"
  }
 },
 "nbformat": 4,
 "nbformat_minor": 2
}
